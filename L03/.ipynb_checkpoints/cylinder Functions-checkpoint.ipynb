{
 "cells": [
  {
   "cell_type": "code",
   "execution_count": 14,
   "metadata": {},
   "outputs": [],
   "source": [
    "import math\n",
    "#Here we import math from the Python libraries. The syntax math.pi will insert a value of pi from the library.\""
   ]
  },
  {
   "cell_type": "code",
   "execution_count": 4,
   "metadata": {},
   "outputs": [],
   "source": [
    "def cylinder(r,h):\n",
    "    v = math.pi*r**2*h\n",
    "    s = 2*math.pi*r*h + 2*math.pi*r**2\n",
    "    return v,s"
   ]
  },
  {
   "cell_type": "code",
   "execution_count": 5,
   "metadata": {},
   "outputs": [
    {
     "data": {
      "text/plain": [
       "' Function definition\\nThis statement defines a function, cylinder(r, h), whose name is cylinder.\\nThe function accepts two parameters, r and h.  When called the function will evaluate v and s and return these values.  \\nSee the next 3 lines of code.'"
      ]
     },
     "execution_count": 5,
     "metadata": {},
     "output_type": "execute_result"
    }
   ],
   "source": [
    "'''Function definition\n",
    "This statement defines a function, cylinder(r, h), whose name is cylinder.\n",
    "The function accepts two parameters, r and h.  When called the function will evaluate v and s and return these values.  \n",
    "See the next 3 lines of code.'''"
   ]
  },
  {
   "cell_type": "code",
   "execution_count": 10,
   "metadata": {},
   "outputs": [
    {
     "name": "stdout",
     "output_type": "stream",
     "text": [
      "Enter the radius: 25\n",
      "Enter the height: 55\n"
     ]
    }
   ],
   "source": [
    "entry_1 = float(input(\"Enter the radius: \"))\n",
    "entry_2 = float(input(\"Enter the height: \"))"
   ]
  },
  {
   "cell_type": "code",
   "execution_count": 11,
   "metadata": {},
   "outputs": [
    {
     "data": {
      "text/plain": [
       "'These two lines direct the user to enter numerical values from the keyboard.  \\nThe first asks for the radius of the cylinder, the second for its height.'"
      ]
     },
     "execution_count": 11,
     "metadata": {},
     "output_type": "execute_result"
    }
   ],
   "source": [
    "'''These two lines direct the user to enter numerical values from the keyboard.  \n",
    "The first asks for the radius of the cylinder, the second for its height.'''"
   ]
  },
  {
   "cell_type": "code",
   "execution_count": 15,
   "metadata": {},
   "outputs": [],
   "source": [
    "volume, surface_area = cylinder(entry_1, entry_2)\n",
    "volume = round(volume, 2)\n",
    "surface_area = round(surface_area, 2)"
   ]
  },
  {
   "cell_type": "code",
   "execution_count": 16,
   "metadata": {},
   "outputs": [
    {
     "data": {
      "text/plain": [
       "' The right side of this expression volume, \\nsurface_area = cylinder(entry_1, entry_2) calls the cylinder function cylinder(r, h) \\nand assigns the keyboard values entry_1 and entry_2 to the parameters r, h, respectively.  \\nThe remaining 3 lines in the function block are executed'"
      ]
     },
     "execution_count": 16,
     "metadata": {},
     "output_type": "execute_result"
    }
   ],
   "source": [
    "''' The right side of this expression volume, \n",
    "surface_area = cylinder(entry_1, entry_2) calls the cylinder function cylinder(r, h) \n",
    "and assigns the keyboard values entry_1 and entry_2 to the parameters r, h, respectively.  \n",
    "The remaining 3 lines in the function block are executed'''"
   ]
  },
  {
   "cell_type": "code",
   "execution_count": 17,
   "metadata": {},
   "outputs": [
    {
     "ename": "NameError",
     "evalue": "name 'r' is not defined",
     "output_type": "error",
     "traceback": [
      "\u001b[1;31m---------------------------------------------------------------------------\u001b[0m",
      "\u001b[1;31mNameError\u001b[0m                                 Traceback (most recent call last)",
      "\u001b[1;32m<ipython-input-17-db5b70b7eb33>\u001b[0m in \u001b[0;36m<module>\u001b[1;34m\u001b[0m\n\u001b[1;32m----> 1\u001b[1;33m \u001b[0mv\u001b[0m \u001b[1;33m=\u001b[0m \u001b[0mmath\u001b[0m\u001b[1;33m.\u001b[0m\u001b[0mpi\u001b[0m\u001b[1;33m*\u001b[0m\u001b[0mr\u001b[0m\u001b[1;33m**\u001b[0m\u001b[1;36m2\u001b[0m\u001b[1;33m*\u001b[0m\u001b[0mh\u001b[0m\u001b[1;33m\u001b[0m\u001b[1;33m\u001b[0m\u001b[0m\n\u001b[0m\u001b[0;32m      2\u001b[0m \u001b[0ms\u001b[0m \u001b[1;33m=\u001b[0m \u001b[1;36m2\u001b[0m\u001b[1;33m*\u001b[0m\u001b[0mmath\u001b[0m\u001b[1;33m.\u001b[0m\u001b[0mpi\u001b[0m\u001b[1;33m*\u001b[0m\u001b[0mr\u001b[0m\u001b[1;33m*\u001b[0m\u001b[0mh\u001b[0m \u001b[1;33m+\u001b[0m \u001b[1;36m2\u001b[0m\u001b[1;33m*\u001b[0m\u001b[0mmath\u001b[0m\u001b[1;33m.\u001b[0m\u001b[0mpi\u001b[0m\u001b[1;33m*\u001b[0m\u001b[0mr\u001b[0m\u001b[1;33m**\u001b[0m\u001b[1;36m2\u001b[0m\u001b[1;33m\u001b[0m\u001b[1;33m\u001b[0m\u001b[0m\n\u001b[0;32m      3\u001b[0m \u001b[1;32mreturn\u001b[0m \u001b[0mv\u001b[0m\u001b[1;33m,\u001b[0m\u001b[0ms\u001b[0m\u001b[1;33m\u001b[0m\u001b[1;33m\u001b[0m\u001b[0m\n\u001b[0;32m      4\u001b[0m \u001b[1;31m# Finally, the values for v, s are assigned to volume, surface_area and rounded to two decimal places.\u001b[0m\u001b[1;33m\u001b[0m\u001b[1;33m\u001b[0m\u001b[1;33m\u001b[0m\u001b[0m\n",
      "\u001b[1;31mNameError\u001b[0m: name 'r' is not defined"
     ]
    }
   ],
   "source": [
    "v = math.pi*r**2*h\n",
    "s = 2*math.pi*r*h + 2*math.pi*r**2\n",
    "return v,s\n",
    "# Finally, the values for v, s are assigned to volume, surface_area and rounded to two decimal places."
   ]
  },
  {
   "cell_type": "code",
   "execution_count": 18,
   "metadata": {},
   "outputs": [
    {
     "name": "stdout",
     "output_type": "stream",
     "text": [
      "The volume is  107992.25 units ^ 3\n",
      "The surface area is  12566.37 units ^ 2\n"
     ]
    },
    {
     "data": {
      "text/plain": [
       "\"These two print statements print the calculated values for the volume and surface area of the user's cylinder.  \\nEach value is recorded to two decimal places.\""
      ]
     },
     "execution_count": 18,
     "metadata": {},
     "output_type": "execute_result"
    }
   ],
   "source": [
    "print(\"The volume is \", volume, \"units ^ 3\")\n",
    "print(\"The surface area is \", surface_area, \"units ^ 2\")\n",
    "'''These two print statements print the calculated values for the volume and surface area of the user's cylinder.  \n",
    "Each value is recorded to two decimal places.'''"
   ]
  },
  {
   "cell_type": "code",
   "execution_count": null,
   "metadata": {},
   "outputs": [],
   "source": []
  }
 ],
 "metadata": {
  "kernelspec": {
   "display_name": "Python 3",
   "language": "python",
   "name": "python3"
  },
  "language_info": {
   "codemirror_mode": {
    "name": "ipython",
    "version": 3
   },
   "file_extension": ".py",
   "mimetype": "text/x-python",
   "name": "python",
   "nbconvert_exporter": "python",
   "pygments_lexer": "ipython3",
   "version": "3.8.2"
  }
 },
 "nbformat": 4,
 "nbformat_minor": 4
}
