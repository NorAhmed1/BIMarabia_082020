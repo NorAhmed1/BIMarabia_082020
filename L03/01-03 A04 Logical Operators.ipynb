{
 "cells": [
  {
   "cell_type": "code",
   "execution_count": 1,
   "metadata": {},
   "outputs": [
    {
     "name": "stdout",
     "output_type": "stream",
     "text": [
      "The success of Experiment 1 and Experiment 2 is False\n",
      "The success of Experiment 1 or Experiment 2 True\n",
      "The not success of Experiment 1 is False\n"
     ]
    }
   ],
   "source": [
    "Experiment_1 = True\n",
    "Experiment_2 = False\n",
    "\n",
    "print('The success of Experiment 1 and Experiment 2 is',Experiment_1 and Experiment_2)\n",
    "\n",
    "print('The success of Experiment 1 or Experiment 2',Experiment_1 or Experiment_2)\n",
    "\n",
    "print('The not success of Experiment 1 is',not Experiment_1)"
   ]
  },
  {
   "cell_type": "code",
   "execution_count": null,
   "metadata": {},
   "outputs": [],
   "source": []
  }
 ],
 "metadata": {
  "kernelspec": {
   "display_name": "Python 3",
   "language": "python",
   "name": "python3"
  },
  "language_info": {
   "codemirror_mode": {
    "name": "ipython",
    "version": 3
   },
   "file_extension": ".py",
   "mimetype": "text/x-python",
   "name": "python",
   "nbconvert_exporter": "python",
   "pygments_lexer": "ipython3",
   "version": "3.8.2"
  }
 },
 "nbformat": 4,
 "nbformat_minor": 4
}
