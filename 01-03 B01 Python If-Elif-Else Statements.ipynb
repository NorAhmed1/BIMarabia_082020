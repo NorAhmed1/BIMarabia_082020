{
 "cells": [
  {
   "cell_type": "code",
   "execution_count": 12,
   "metadata": {},
   "outputs": [
    {
     "name": "stdout",
     "output_type": "stream",
     "text": [
      "Rejected cube\n",
      "Measured_Compressive_Strength and ,Minimum_Compressive_Strength are : (30, 40)\n"
     ]
    }
   ],
   "source": [
    "Minimum_Compressive_Strength =minimum= 40\n",
    "Measured_Compressive_Strength =measured= 30\n",
    "\n",
    "if(measured < minimum):\n",
    "    st= \"Rejected Cube\"\n",
    "    print(st)\n",
    "\n",
    "print(\"Measured_Compressive_Strength and ,Minimum_Compressive_Strength are :\",(measured,minimum))"
   ]
  },
  {
   "cell_type": "code",
   "execution_count": 13,
   "metadata": {},
   "outputs": [
    {
     "name": "stdout",
     "output_type": "stream",
     "text": [
      "Accepted Cube\n",
      "Measured_Compressive_Strength and ,Minimum_Compressive_Strength are : (60, 40)\n"
     ]
    }
   ],
   "source": [
    "Minimum_Compressive_Strength =minimum= 40\n",
    "Measured_Compressive_Strength =measured= 60\n",
    "\n",
    "if(measured < minimum):\n",
    "    st= \"Rejected Cube\"\n",
    "    print(st)\n",
    "else:\n",
    "    st= \"Accepted Cube\"\n",
    "    print (st)\n",
    "\n",
    "print(\"Measured_Compressive_Strength and ,Minimum_Compressive_Strength are :\",(measured,minimum))"
   ]
  },
  {
   "cell_type": "code",
   "execution_count": 19,
   "metadata": {},
   "outputs": [
    {
     "name": "stdout",
     "output_type": "stream",
     "text": [
      "Just Accepted\n",
      "Measured_Compressive_Strength and ,Minimum_Compressive_Strength are : (40, 40)\n"
     ]
    }
   ],
   "source": [
    "Minimum_Compressive_Strength =minimum= 40\n",
    "Measured_Compressive_Strength =measured= 40\n",
    "\n",
    "if(measured < minimum):\n",
    "    st= \"Rejected Cube\"\n",
    "    print(st)\n",
    "elif (measured == minimum):\n",
    "    st= \"Just Accepted\"\n",
    "    print(st)\n",
    "else:\n",
    "    st= \"Accepted Cube\"\n",
    "    print (st)\n",
    "\n",
    "print(\"Measured_Compressive_Strength and ,Minimum_Compressive_Strength are :\",(measured,minimum))"
   ]
  }
 ],
 "metadata": {
  "kernelspec": {
   "display_name": "Python 3",
   "language": "python",
   "name": "python3"
  },
  "language_info": {
   "codemirror_mode": {
    "name": "ipython",
    "version": 3
   },
   "file_extension": ".py",
   "mimetype": "text/x-python",
   "name": "python",
   "nbconvert_exporter": "python",
   "pygments_lexer": "ipython3",
   "version": "3.8.2"
  }
 },
 "nbformat": 4,
 "nbformat_minor": 4
}
